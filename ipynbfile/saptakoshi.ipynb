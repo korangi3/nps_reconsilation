{
 "cells": [
  {
   "cell_type": "code",
   "execution_count": 1,
   "metadata": {},
   "outputs": [],
   "source": [
    "import pandas as pd\n",
    "import re"
   ]
  },
  {
   "cell_type": "code",
   "execution_count": 4,
   "metadata": {},
   "outputs": [],
   "source": [
    "bank_statement_df= pd.read_excel(r\"D:\\For Auto Recon\\BANK STATEMENT REPORT FOR RECONCILE Phase1-20230807T053815Z-001\\BANK STATEMENT REPORT FOR RECONCILE Phase1\\Saptakoshi.xlsx\",skiprows=1)\n",
    "soa_statement_df = pd.read_csv(r\"D:\\For Auto Recon\\SOA REPORT FOR RECONCILE Phase1-20230807T053702Z-001\\SOA REPORT FOR RECONCILE Phase1\\Commission Report (04_29_2021 to 06_03_2022)Saptakoshi Bank.csv\",encoding='latin-1')"
   ]
  },
  {
   "cell_type": "code",
   "execution_count": 5,
   "metadata": {},
   "outputs": [
    {
     "data": {
      "text/html": [
       "<div>\n",
       "<style scoped>\n",
       "    .dataframe tbody tr th:only-of-type {\n",
       "        vertical-align: middle;\n",
       "    }\n",
       "\n",
       "    .dataframe tbody tr th {\n",
       "        vertical-align: top;\n",
       "    }\n",
       "\n",
       "    .dataframe thead th {\n",
       "        text-align: right;\n",
       "    }\n",
       "</style>\n",
       "<table border=\"1\" class=\"dataframe\">\n",
       "  <thead>\n",
       "    <tr style=\"text-align: right;\">\n",
       "      <th></th>\n",
       "      <th>BranchCode</th>\n",
       "      <th>AcType</th>\n",
       "      <th>CyCode</th>\n",
       "      <th>MainCode</th>\n",
       "      <th>TranDate</th>\n",
       "      <th>Desc1</th>\n",
       "      <th>Desc2</th>\n",
       "      <th>Desc3</th>\n",
       "      <th>ValueDate</th>\n",
       "      <th>TranCyCode</th>\n",
       "      <th>Amount</th>\n",
       "      <th>LCYAmount</th>\n",
       "      <th>TranId</th>\n",
       "      <th>Balance</th>\n",
       "    </tr>\n",
       "  </thead>\n",
       "  <tbody>\n",
       "    <tr>\n",
       "      <th>0</th>\n",
       "      <td>999</td>\n",
       "      <td>60</td>\n",
       "      <td>1</td>\n",
       "      <td>926052301</td>\n",
       "      <td>29/04/2021</td>\n",
       "      <td>9810314584</td>\n",
       "      <td>100000467928</td>\n",
       "      <td>126773</td>\n",
       "      <td>29/04/2021</td>\n",
       "      <td>1</td>\n",
       "      <td>10.0</td>\n",
       "      <td>10.0</td>\n",
       "      <td>HPP174356</td>\n",
       "      <td>10.0</td>\n",
       "    </tr>\n",
       "    <tr>\n",
       "      <th>1</th>\n",
       "      <td>999</td>\n",
       "      <td>60</td>\n",
       "      <td>1</td>\n",
       "      <td>926052301</td>\n",
       "      <td>29/04/2021</td>\n",
       "      <td>9852032900</td>\n",
       "      <td>100000467924</td>\n",
       "      <td>126774</td>\n",
       "      <td>29/04/2021</td>\n",
       "      <td>1</td>\n",
       "      <td>10.0</td>\n",
       "      <td>10.0</td>\n",
       "      <td>HPP174412</td>\n",
       "      <td>20.0</td>\n",
       "    </tr>\n",
       "    <tr>\n",
       "      <th>2</th>\n",
       "      <td>999</td>\n",
       "      <td>60</td>\n",
       "      <td>1</td>\n",
       "      <td>926052301</td>\n",
       "      <td>05/05/2021</td>\n",
       "      <td>9842345646</td>\n",
       "      <td>100000486972</td>\n",
       "      <td>128426</td>\n",
       "      <td>05/05/2021</td>\n",
       "      <td>1</td>\n",
       "      <td>100.0</td>\n",
       "      <td>100.0</td>\n",
       "      <td>HPP195545</td>\n",
       "      <td>120.0</td>\n",
       "    </tr>\n",
       "    <tr>\n",
       "      <th>3</th>\n",
       "      <td>999</td>\n",
       "      <td>60</td>\n",
       "      <td>1</td>\n",
       "      <td>926052301</td>\n",
       "      <td>10/05/2021</td>\n",
       "      <td>9810504017</td>\n",
       "      <td>100000501765</td>\n",
       "      <td>129776</td>\n",
       "      <td>10/05/2021</td>\n",
       "      <td>1</td>\n",
       "      <td>350.0</td>\n",
       "      <td>350.0</td>\n",
       "      <td>HPP191655</td>\n",
       "      <td>470.0</td>\n",
       "    </tr>\n",
       "    <tr>\n",
       "      <th>4</th>\n",
       "      <td>999</td>\n",
       "      <td>60</td>\n",
       "      <td>1</td>\n",
       "      <td>926052301</td>\n",
       "      <td>13/05/2021</td>\n",
       "      <td>9842034299</td>\n",
       "      <td>100000509133</td>\n",
       "      <td>130512Off</td>\n",
       "      <td>13/05/2021</td>\n",
       "      <td>1</td>\n",
       "      <td>215.0</td>\n",
       "      <td>215.0</td>\n",
       "      <td>HPP091312</td>\n",
       "      <td>685.0</td>\n",
       "    </tr>\n",
       "  </tbody>\n",
       "</table>\n",
       "</div>"
      ],
      "text/plain": [
       "   BranchCode  AcType  CyCode   MainCode    TranDate       Desc1  \\\n",
       "0         999      60       1  926052301  29/04/2021  9810314584   \n",
       "1         999      60       1  926052301  29/04/2021  9852032900   \n",
       "2         999      60       1  926052301  05/05/2021  9842345646   \n",
       "3         999      60       1  926052301  10/05/2021  9810504017   \n",
       "4         999      60       1  926052301  13/05/2021  9842034299   \n",
       "\n",
       "          Desc2      Desc3   ValueDate  TranCyCode  Amount  LCYAmount  \\\n",
       "0  100000467928     126773  29/04/2021           1    10.0       10.0   \n",
       "1  100000467924     126774  29/04/2021           1    10.0       10.0   \n",
       "2  100000486972     128426  05/05/2021           1   100.0      100.0   \n",
       "3  100000501765     129776  10/05/2021           1   350.0      350.0   \n",
       "4  100000509133  130512Off  13/05/2021           1   215.0      215.0   \n",
       "\n",
       "      TranId  Balance  \n",
       "0  HPP174356     10.0  \n",
       "1  HPP174412     20.0  \n",
       "2  HPP195545    120.0  \n",
       "3  HPP191655    470.0  \n",
       "4  HPP091312    685.0  "
      ]
     },
     "execution_count": 5,
     "metadata": {},
     "output_type": "execute_result"
    }
   ],
   "source": [
    "bank_statement_df.head()"
   ]
  },
  {
   "cell_type": "code",
   "execution_count": 8,
   "metadata": {},
   "outputs": [
    {
     "data": {
      "text/plain": [
       "1120"
      ]
     },
     "execution_count": 8,
     "metadata": {},
     "output_type": "execute_result"
    }
   ],
   "source": [
    "bank_statement_df['Desc2'].count()"
   ]
  },
  {
   "cell_type": "code",
   "execution_count": 10,
   "metadata": {},
   "outputs": [],
   "source": [
    "for index, row in bank_statement_df.iterrows():\n",
    "        if \"100000\" in str(row[\"Desc2\"]):\n",
    "            id_matches = re.findall(r'10*[0-9]{6}', str(row[\"Desc2\"]))\n",
    "            if id_matches:\n",
    "                id = id_matches[0].replace(\"100000\", \"\")\n",
    "                bank_statement_df.loc[index, 'Transaction Id'] = id\n",
    "\n",
    "        elif \"10000\" in str(row[\"Desc2\"]):\n",
    "            id_matches = re.findall(r'10*[0-9]{7}', str(row[\"Desc2\"]))\n",
    "            if id_matches:\n",
    "                id = id_matches[0].replace(\"10000\", \"\")\n",
    "                bank_statement_df.loc[index, 'Transaction Id'] = id"
   ]
  },
  {
   "cell_type": "code",
   "execution_count": 11,
   "metadata": {},
   "outputs": [
    {
     "data": {
      "text/plain": [
       "1118"
      ]
     },
     "execution_count": 11,
     "metadata": {},
     "output_type": "execute_result"
    }
   ],
   "source": [
    "bank_statement_df['Transaction Id'].count()"
   ]
  },
  {
   "cell_type": "code",
   "execution_count": null,
   "metadata": {},
   "outputs": [],
   "source": []
  }
 ],
 "metadata": {
  "kernelspec": {
   "display_name": "Python 3.9.13 ('base')",
   "language": "python",
   "name": "python3"
  },
  "language_info": {
   "codemirror_mode": {
    "name": "ipython",
    "version": 3
   },
   "file_extension": ".py",
   "mimetype": "text/x-python",
   "name": "python",
   "nbconvert_exporter": "python",
   "pygments_lexer": "ipython3",
   "version": "3.9.13"
  },
  "orig_nbformat": 4,
  "vscode": {
   "interpreter": {
    "hash": "ad2bdc8ecc057115af97d19610ffacc2b4e99fae6737bb82f5d7fb13d2f2c186"
   }
  }
 },
 "nbformat": 4,
 "nbformat_minor": 2
}
