{
 "cells": [
  {
   "cell_type": "code",
   "execution_count": 1,
   "metadata": {},
   "outputs": [],
   "source": [
    "import pandas as pd\n",
    "import re"
   ]
  },
  {
   "cell_type": "code",
   "execution_count": 6,
   "metadata": {},
   "outputs": [],
   "source": [
    "bank_statement_df= pd.read_excel(r\"D:\\For Auto Recon\\BANK STATEMENT REPORT FOR RECONCILE Phase1-20230807T053815Z-001\\BANK STATEMENT REPORT FOR RECONCILE Phase1\\NPS RECEIVABLE -STATEMENT Shangrilla.xlsx\",skiprows=1)\n",
    "soa_statement_df = pd.read_csv(r\"D:\\For Auto Recon\\SOA REPORT FOR RECONCILE Phase1-20230807T053702Z-001\\SOA REPORT FOR RECONCILE Phase1\\Commission Report (05_14_2021 to 07_17_2021)Shangrilla Bank.csv\",encoding='latin-1')"
   ]
  },
  {
   "cell_type": "code",
   "execution_count": 7,
   "metadata": {},
   "outputs": [
    {
     "data": {
      "text/plain": [
       "291"
      ]
     },
     "execution_count": 7,
     "metadata": {},
     "output_type": "execute_result"
    }
   ],
   "source": [
    "bank_statement_df = bank_statement_df.loc[bank_statement_df['Desc1'] != '~Date summary']\n",
    "len(bank_statement_df)"
   ]
  },
  {
   "cell_type": "code",
   "execution_count": 8,
   "metadata": {},
   "outputs": [
    {
     "data": {
      "text/html": [
       "<div>\n",
       "<style scoped>\n",
       "    .dataframe tbody tr th:only-of-type {\n",
       "        vertical-align: middle;\n",
       "    }\n",
       "\n",
       "    .dataframe tbody tr th {\n",
       "        vertical-align: top;\n",
       "    }\n",
       "\n",
       "    .dataframe thead th {\n",
       "        text-align: right;\n",
       "    }\n",
       "</style>\n",
       "<table border=\"1\" class=\"dataframe\">\n",
       "  <thead>\n",
       "    <tr style=\"text-align: right;\">\n",
       "      <th></th>\n",
       "      <th>BranchCode</th>\n",
       "      <th>TranDate</th>\n",
       "      <th>TranId</th>\n",
       "      <th>ShowTranDate</th>\n",
       "      <th>Desc1</th>\n",
       "      <th>Desc2</th>\n",
       "      <th>Desc3</th>\n",
       "      <th>ValueDate</th>\n",
       "      <th>Debit</th>\n",
       "      <th>Credit</th>\n",
       "      <th>Balance</th>\n",
       "    </tr>\n",
       "  </thead>\n",
       "  <tbody>\n",
       "    <tr>\n",
       "      <th>0</th>\n",
       "      <td>999</td>\n",
       "      <td>14/05/2021</td>\n",
       "      <td>iBX175253</td>\n",
       "      <td>14/05/2021</td>\n",
       "      <td>9851006457</td>\n",
       "      <td>NPS</td>\n",
       "      <td>03201100163086000001</td>\n",
       "      <td>14/05/2021</td>\n",
       "      <td>0</td>\n",
       "      <td>10</td>\n",
       "      <td>0</td>\n",
       "    </tr>\n",
       "    <tr>\n",
       "      <th>1</th>\n",
       "      <td>999</td>\n",
       "      <td>14/05/2021</td>\n",
       "      <td>HPP173838</td>\n",
       "      <td>14/05/2021</td>\n",
       "      <td>9818864155</td>\n",
       "      <td>100000515598</td>\n",
       "      <td>855156</td>\n",
       "      <td>14/05/2021</td>\n",
       "      <td>0</td>\n",
       "      <td>10</td>\n",
       "      <td>0</td>\n",
       "    </tr>\n",
       "    <tr>\n",
       "      <th>4</th>\n",
       "      <td>999</td>\n",
       "      <td>17/05/2021</td>\n",
       "      <td>HPP131147</td>\n",
       "      <td>17/05/2021</td>\n",
       "      <td>9865574583</td>\n",
       "      <td>100000526299</td>\n",
       "      <td>859237</td>\n",
       "      <td>17/05/2021</td>\n",
       "      <td>0</td>\n",
       "      <td>500</td>\n",
       "      <td>0</td>\n",
       "    </tr>\n",
       "    <tr>\n",
       "      <th>5</th>\n",
       "      <td>999</td>\n",
       "      <td>17/05/2021</td>\n",
       "      <td>HPP140208</td>\n",
       "      <td>17/05/2021</td>\n",
       "      <td>9865936706</td>\n",
       "      <td>100000526591</td>\n",
       "      <td>859320</td>\n",
       "      <td>17/05/2021</td>\n",
       "      <td>0</td>\n",
       "      <td>500</td>\n",
       "      <td>0</td>\n",
       "    </tr>\n",
       "    <tr>\n",
       "      <th>6</th>\n",
       "      <td>999</td>\n",
       "      <td>17/05/2021</td>\n",
       "      <td>HPP152335</td>\n",
       "      <td>17/05/2021</td>\n",
       "      <td>9812684567</td>\n",
       "      <td>100000526922</td>\n",
       "      <td>859438</td>\n",
       "      <td>17/05/2021</td>\n",
       "      <td>0</td>\n",
       "      <td>500</td>\n",
       "      <td>0</td>\n",
       "    </tr>\n",
       "  </tbody>\n",
       "</table>\n",
       "</div>"
      ],
      "text/plain": [
       "   BranchCode    TranDate     TranId ShowTranDate       Desc1         Desc2  \\\n",
       "0         999  14/05/2021  iBX175253   14/05/2021  9851006457           NPS   \n",
       "1         999  14/05/2021  HPP173838   14/05/2021  9818864155  100000515598   \n",
       "4         999  17/05/2021  HPP131147   17/05/2021  9865574583  100000526299   \n",
       "5         999  17/05/2021  HPP140208   17/05/2021  9865936706  100000526591   \n",
       "6         999  17/05/2021  HPP152335   17/05/2021  9812684567  100000526922   \n",
       "\n",
       "                  Desc3   ValueDate  Debit  Credit  Balance  \n",
       "0  03201100163086000001  14/05/2021      0      10        0  \n",
       "1                855156  14/05/2021      0      10        0  \n",
       "4                859237  17/05/2021      0     500        0  \n",
       "5                859320  17/05/2021      0     500        0  \n",
       "6                859438  17/05/2021      0     500        0  "
      ]
     },
     "execution_count": 8,
     "metadata": {},
     "output_type": "execute_result"
    }
   ],
   "source": [
    "bank_statement_df.head()"
   ]
  },
  {
   "cell_type": "code",
   "execution_count": 12,
   "metadata": {},
   "outputs": [],
   "source": [
    "for index, row in bank_statement_df.iterrows():\n",
    "        if \"100000\" in str(row[\"Desc2\"]):\n",
    "            id_matches = re.findall(r'10*[0-9]{6}', str(row[\"Desc2\"]))\n",
    "            if id_matches:\n",
    "                id = id_matches[0].replace(\"100000\", \"\")\n",
    "                bank_statement_df.loc[index, 'Transaction Id'] = id\n",
    "        desc2_str = str(row[\"Desc2\"])\n",
    "        matches = re.findall(r'\\b\\d{2,4}\\b', desc2_str)\n",
    "        if matches:\n",
    "            id = matches[0]\n",
    "            bank_statement_df.loc[index, 'Transaction Id'] = id"
   ]
  },
  {
   "cell_type": "code",
   "execution_count": 13,
   "metadata": {},
   "outputs": [
    {
     "data": {
      "text/plain": [
       "289"
      ]
     },
     "execution_count": 13,
     "metadata": {},
     "output_type": "execute_result"
    }
   ],
   "source": [
    "bank_statement_df['Transaction Id'].count()"
   ]
  },
  {
   "cell_type": "code",
   "execution_count": null,
   "metadata": {},
   "outputs": [],
   "source": []
  }
 ],
 "metadata": {
  "kernelspec": {
   "display_name": "Python 3.9.13 ('base')",
   "language": "python",
   "name": "python3"
  },
  "language_info": {
   "codemirror_mode": {
    "name": "ipython",
    "version": 3
   },
   "file_extension": ".py",
   "mimetype": "text/x-python",
   "name": "python",
   "nbconvert_exporter": "python",
   "pygments_lexer": "ipython3",
   "version": "3.9.13"
  },
  "orig_nbformat": 4,
  "vscode": {
   "interpreter": {
    "hash": "ad2bdc8ecc057115af97d19610ffacc2b4e99fae6737bb82f5d7fb13d2f2c186"
   }
  }
 },
 "nbformat": 4,
 "nbformat_minor": 2
}
