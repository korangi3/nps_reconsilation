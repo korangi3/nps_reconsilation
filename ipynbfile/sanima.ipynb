{
 "cells": [
  {
   "cell_type": "code",
   "execution_count": 5,
   "metadata": {},
   "outputs": [],
   "source": [
    "import pandas as pd\n",
    "import re\n",
    "from datetime import datetime"
   ]
  },
  {
   "cell_type": "code",
   "execution_count": 2,
   "metadata": {},
   "outputs": [],
   "source": [
    "bank_statement_df =  pd.read_excel(r\"D:\\For Auto Recon\\BANK STATEMENT REPORT FOR RECONCILE Phase1\\Sanima bank 31-10-2020 to 01-04-2021.xlsx\")"
   ]
  },
  {
   "cell_type": "code",
   "execution_count": 3,
   "metadata": {},
   "outputs": [
    {
     "data": {
      "text/html": [
       "<div>\n",
       "<style scoped>\n",
       "    .dataframe tbody tr th:only-of-type {\n",
       "        vertical-align: middle;\n",
       "    }\n",
       "\n",
       "    .dataframe tbody tr th {\n",
       "        vertical-align: top;\n",
       "    }\n",
       "\n",
       "    .dataframe thead th {\n",
       "        text-align: right;\n",
       "    }\n",
       "</style>\n",
       "<table border=\"1\" class=\"dataframe\">\n",
       "  <thead>\n",
       "    <tr style=\"text-align: right;\">\n",
       "      <th></th>\n",
       "      <th>SOL_ID</th>\n",
       "      <th>TRAN_DATE</th>\n",
       "      <th>VALUE_DATE</th>\n",
       "      <th>TRAN_ID</th>\n",
       "      <th>FORACID</th>\n",
       "      <th>NAME</th>\n",
       "      <th>TRAN_AMT</th>\n",
       "      <th>TRAN_CRNCY_CODE</th>\n",
       "      <th>PART_TRAN_TYPE</th>\n",
       "      <th>TRAN_PARTICULAR</th>\n",
       "      <th>TRAN_PARTICULAR_2</th>\n",
       "      <th>REF_NO</th>\n",
       "      <th>TRAN_RMKS</th>\n",
       "      <th>ENTRY_USER_ID</th>\n",
       "      <th>VFD_USER_ID</th>\n",
       "    </tr>\n",
       "  </thead>\n",
       "  <tbody>\n",
       "    <tr>\n",
       "      <th>0</th>\n",
       "      <td>908</td>\n",
       "      <td>01-APR-2021</td>\n",
       "      <td>01-APR-2021</td>\n",
       "      <td>S329799</td>\n",
       "      <td>90801352150025</td>\n",
       "      <td>NPS PAYABLE</td>\n",
       "      <td>16100.0</td>\n",
       "      <td>NPR</td>\n",
       "      <td>C</td>\n",
       "      <td>100000395809,MOBILE/078011050000101</td>\n",
       "      <td>FUN MOB/9840729352/242093/01-04-2021</td>\n",
       "      <td>1242093.0</td>\n",
       "      <td>885692,Nepal Payment Solution</td>\n",
       "      <td>CDCI</td>\n",
       "      <td>CDCI</td>\n",
       "    </tr>\n",
       "    <tr>\n",
       "      <th>1</th>\n",
       "      <td>908</td>\n",
       "      <td>01-APR-2021</td>\n",
       "      <td>01-APR-2021</td>\n",
       "      <td>S345916</td>\n",
       "      <td>90801352150025</td>\n",
       "      <td>NPS PAYABLE</td>\n",
       "      <td>9500.0</td>\n",
       "      <td>NPR</td>\n",
       "      <td>C</td>\n",
       "      <td>100000396653,MOBILE/046011140000030</td>\n",
       "      <td>FUN MOB/9810095717/259982/01-04-2021</td>\n",
       "      <td>1259982.0</td>\n",
       "      <td>889917,Nepal Payment Solution</td>\n",
       "      <td>CDCI</td>\n",
       "      <td>CDCI</td>\n",
       "    </tr>\n",
       "    <tr>\n",
       "      <th>2</th>\n",
       "      <td>908</td>\n",
       "      <td>01-APR-2021</td>\n",
       "      <td>01-APR-2021</td>\n",
       "      <td>S323167</td>\n",
       "      <td>90801352150025</td>\n",
       "      <td>NPS PAYABLE</td>\n",
       "      <td>1000.0</td>\n",
       "      <td>NPR</td>\n",
       "      <td>C</td>\n",
       "      <td>100000395311,MOBILE/046011060001311</td>\n",
       "      <td>FUN MOB/9849842086/237778/01-04-2021</td>\n",
       "      <td>1237778.0</td>\n",
       "      <td>883156,Nepal Payment Solution</td>\n",
       "      <td>CDCI</td>\n",
       "      <td>CDCI</td>\n",
       "    </tr>\n",
       "    <tr>\n",
       "      <th>3</th>\n",
       "      <td>908</td>\n",
       "      <td>01-APR-2021</td>\n",
       "      <td>01-APR-2021</td>\n",
       "      <td>S346951</td>\n",
       "      <td>90801352150025</td>\n",
       "      <td>NPS PAYABLE</td>\n",
       "      <td>15000.0</td>\n",
       "      <td>NPR</td>\n",
       "      <td>C</td>\n",
       "      <td>100000396695,MOBILE/046011050000069</td>\n",
       "      <td>FUN MOB/9808245712/265199/01-04-2021</td>\n",
       "      <td>1265199.0</td>\n",
       "      <td>890224,Nepal Payment Solution</td>\n",
       "      <td>CDCI</td>\n",
       "      <td>CDCI</td>\n",
       "    </tr>\n",
       "    <tr>\n",
       "      <th>4</th>\n",
       "      <td>908</td>\n",
       "      <td>01-APR-2021</td>\n",
       "      <td>01-APR-2021</td>\n",
       "      <td>S340805</td>\n",
       "      <td>90801352150025</td>\n",
       "      <td>NPS PAYABLE</td>\n",
       "      <td>1000.0</td>\n",
       "      <td>NPR</td>\n",
       "      <td>C</td>\n",
       "      <td>100000396427,MOBILE/046011010000318</td>\n",
       "      <td>FUN MOB/9803250573/244930/01-04-2021</td>\n",
       "      <td>1244930.0</td>\n",
       "      <td>888666,Nepal Payment Solution</td>\n",
       "      <td>CDCI</td>\n",
       "      <td>CDCI</td>\n",
       "    </tr>\n",
       "  </tbody>\n",
       "</table>\n",
       "</div>"
      ],
      "text/plain": [
       "   SOL_ID    TRAN_DATE   VALUE_DATE  TRAN_ID         FORACID         NAME  \\\n",
       "0     908  01-APR-2021  01-APR-2021  S329799  90801352150025  NPS PAYABLE   \n",
       "1     908  01-APR-2021  01-APR-2021  S345916  90801352150025  NPS PAYABLE   \n",
       "2     908  01-APR-2021  01-APR-2021  S323167  90801352150025  NPS PAYABLE   \n",
       "3     908  01-APR-2021  01-APR-2021  S346951  90801352150025  NPS PAYABLE   \n",
       "4     908  01-APR-2021  01-APR-2021  S340805  90801352150025  NPS PAYABLE   \n",
       "\n",
       "   TRAN_AMT TRAN_CRNCY_CODE PART_TRAN_TYPE  \\\n",
       "0   16100.0             NPR              C   \n",
       "1    9500.0             NPR              C   \n",
       "2    1000.0             NPR              C   \n",
       "3   15000.0             NPR              C   \n",
       "4    1000.0             NPR              C   \n",
       "\n",
       "                       TRAN_PARTICULAR                     TRAN_PARTICULAR_2  \\\n",
       "0  100000395809,MOBILE/078011050000101  FUN MOB/9840729352/242093/01-04-2021   \n",
       "1  100000396653,MOBILE/046011140000030  FUN MOB/9810095717/259982/01-04-2021   \n",
       "2  100000395311,MOBILE/046011060001311  FUN MOB/9849842086/237778/01-04-2021   \n",
       "3  100000396695,MOBILE/046011050000069  FUN MOB/9808245712/265199/01-04-2021   \n",
       "4  100000396427,MOBILE/046011010000318  FUN MOB/9803250573/244930/01-04-2021   \n",
       "\n",
       "      REF_NO                      TRAN_RMKS ENTRY_USER_ID VFD_USER_ID  \n",
       "0  1242093.0  885692,Nepal Payment Solution          CDCI        CDCI  \n",
       "1  1259982.0  889917,Nepal Payment Solution          CDCI        CDCI  \n",
       "2  1237778.0  883156,Nepal Payment Solution          CDCI        CDCI  \n",
       "3  1265199.0  890224,Nepal Payment Solution          CDCI        CDCI  \n",
       "4  1244930.0  888666,Nepal Payment Solution          CDCI        CDCI  "
      ]
     },
     "execution_count": 3,
     "metadata": {},
     "output_type": "execute_result"
    }
   ],
   "source": [
    "bank_statement_df.head()"
   ]
  },
  {
   "cell_type": "code",
   "execution_count": 4,
   "metadata": {},
   "outputs": [
    {
     "data": {
      "text/plain": [
       "0        01-APR-2021\n",
       "1        01-APR-2021\n",
       "2        01-APR-2021\n",
       "3        01-APR-2021\n",
       "4        01-APR-2021\n",
       "            ...     \n",
       "28393    31-OCT-2020\n",
       "28394    31-OCT-2020\n",
       "28395    31-OCT-2020\n",
       "28396    31-OCT-2020\n",
       "28397    31-OCT-2020\n",
       "Name: TRAN_DATE, Length: 28398, dtype: object"
      ]
     },
     "execution_count": 4,
     "metadata": {},
     "output_type": "execute_result"
    }
   ],
   "source": [
    "bank_statement_df['TRAN_DATE']"
   ]
  },
  {
   "cell_type": "code",
   "execution_count": 7,
   "metadata": {},
   "outputs": [
    {
     "name": "stdout",
     "output_type": "stream",
     "text": [
      "0        2021-04-01\n",
      "1        2021-04-01\n",
      "2        2021-04-01\n",
      "3        2021-04-01\n",
      "4        2021-04-01\n",
      "            ...    \n",
      "28393    2020-10-31\n",
      "28394    2020-10-31\n",
      "28395    2020-10-31\n",
      "28396    2020-10-31\n",
      "28397    2020-10-31\n",
      "Name: TRAN_DATE, Length: 28398, dtype: object\n"
     ]
    }
   ],
   "source": [
    "def convert_date_format(input_date):\n",
    "    parsed_date = datetime.strptime(input_date, \"%d-%b-%Y\")\n",
    "    formatted_date = parsed_date.strftime(\"%Y-%m-%d\")\n",
    "    return formatted_date\n",
    "\n",
    "converted_series = bank_statement_df['TRAN_DATE'].apply(convert_date_format)\n",
    "print(converted_series)"
   ]
  },
  {
   "cell_type": "code",
   "execution_count": null,
   "metadata": {},
   "outputs": [],
   "source": []
  }
 ],
 "metadata": {
  "kernelspec": {
   "display_name": "Python 3.9.13 ('base')",
   "language": "python",
   "name": "python3"
  },
  "language_info": {
   "codemirror_mode": {
    "name": "ipython",
    "version": 3
   },
   "file_extension": ".py",
   "mimetype": "text/x-python",
   "name": "python",
   "nbconvert_exporter": "python",
   "pygments_lexer": "ipython3",
   "version": "3.9.13"
  },
  "orig_nbformat": 4,
  "vscode": {
   "interpreter": {
    "hash": "ad2bdc8ecc057115af97d19610ffacc2b4e99fae6737bb82f5d7fb13d2f2c186"
   }
  }
 },
 "nbformat": 4,
 "nbformat_minor": 2
}
