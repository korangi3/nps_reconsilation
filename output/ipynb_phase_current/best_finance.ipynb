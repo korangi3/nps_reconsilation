{
 "cells": [
  {
   "cell_type": "code",
   "execution_count": 1,
   "metadata": {},
   "outputs": [],
   "source": [
    "import pandas as pd\n",
    "import re "
   ]
  },
  {
   "cell_type": "code",
   "execution_count": 2,
   "metadata": {},
   "outputs": [],
   "source": [
    "\n",
    "bank_statement_df = pd.read_excel(r\"D:\\NPS_phase1\\nps-reconciliation\\output\\BANK STMT PHASE 4\\Bank_bestfinance.xlsx\", skiprows=1)\n"
   ]
  },
  {
   "cell_type": "code",
   "execution_count": 3,
   "metadata": {},
   "outputs": [
    {
     "data": {
      "text/html": [
       "<div>\n",
       "<style scoped>\n",
       "    .dataframe tbody tr th:only-of-type {\n",
       "        vertical-align: middle;\n",
       "    }\n",
       "\n",
       "    .dataframe tbody tr th {\n",
       "        vertical-align: top;\n",
       "    }\n",
       "\n",
       "    .dataframe thead th {\n",
       "        text-align: right;\n",
       "    }\n",
       "</style>\n",
       "<table border=\"1\" class=\"dataframe\">\n",
       "  <thead>\n",
       "    <tr style=\"text-align: right;\">\n",
       "      <th></th>\n",
       "      <th>S.N</th>\n",
       "      <th>Ac.Number</th>\n",
       "      <th>Amount</th>\n",
       "      <th>Txn Type</th>\n",
       "      <th>Desc1</th>\n",
       "      <th>Desc2</th>\n",
       "      <th>Desc3</th>\n",
       "      <th>Date</th>\n",
       "      <th>Number</th>\n",
       "    </tr>\n",
       "  </thead>\n",
       "  <tbody>\n",
       "    <tr>\n",
       "      <th>0</th>\n",
       "      <td>1</td>\n",
       "      <td>915103010100</td>\n",
       "      <td>-86916.28</td>\n",
       "      <td>DR</td>\n",
       "      <td>1</td>\n",
       "      <td>PRABHUMONEY#PMT91752</td>\n",
       "      <td>NPS-IF-3196423</td>\n",
       "      <td>2023-09-05T00:00:00</td>\n",
       "      <td>NPS131312</td>\n",
       "    </tr>\n",
       "  </tbody>\n",
       "</table>\n",
       "</div>"
      ],
      "text/plain": [
       "   S.N     Ac.Number    Amount Txn Type  Desc1                 Desc2  \\\n",
       "0    1  915103010100 -86916.28       DR      1  PRABHUMONEY#PMT91752   \n",
       "\n",
       "            Desc3                 Date     Number  \n",
       "0  NPS-IF-3196423  2023-09-05T00:00:00  NPS131312  "
      ]
     },
     "execution_count": 3,
     "metadata": {},
     "output_type": "execute_result"
    }
   ],
   "source": [
    "bank_statement_df.head()"
   ]
  },
  {
   "cell_type": "code",
   "execution_count": 9,
   "metadata": {},
   "outputs": [],
   "source": [
    "for index, row in bank_statement_df.iterrows():\n",
    "    if \"NPS-IF-\" in str(row[\"Desc3\"]):\n",
    "        id = re.findall(r'[0-9]{7}',str(row[\"Desc3\"]))\n",
    "        bank_statement_df.loc[index, 'Transaction Id'] = id[0]\n",
    "\n",
    "    elif \"10000\" in str(row[\"Desc3\"]):\n",
    "        id = re.findall(r'10*[0-9]{7}',str(row[\"Desc3\"]))\n",
    "        bank_statement_df.loc[index, 'Transaction Id'] = id[0].replace(\"10000\",\"\")\n",
    "    \n",
    "    elif \"FTMS-\" in str(row[\"Desc3\"]):\n",
    "        match = re.search(r'FTMS-(\\d+)',str(row[\"Desc3\"]))\n",
    "        if match:\n",
    "            id= match.group(1)\n",
    "            bank_statement_df.loc[index, 'Transaction Id'] = id"
   ]
  },
  {
   "cell_type": "code",
   "execution_count": 8,
   "metadata": {},
   "outputs": [
    {
     "data": {
      "text/plain": [
       "0    3196423\n",
       "Name: Transaction Id, dtype: object"
      ]
     },
     "execution_count": 8,
     "metadata": {},
     "output_type": "execute_result"
    }
   ],
   "source": [
    "bank_statement_df['Transaction Id']"
   ]
  },
  {
   "cell_type": "code",
   "execution_count": 10,
   "metadata": {},
   "outputs": [],
   "source": [
    "bank_statement_df['Date'] = pd.to_datetime(bank_statement_df['Date'], format=\"%Y-%m-%dT%H:%M:%S\").dt.date"
   ]
  },
  {
   "cell_type": "code",
   "execution_count": 11,
   "metadata": {},
   "outputs": [
    {
     "data": {
      "text/html": [
       "<div>\n",
       "<style scoped>\n",
       "    .dataframe tbody tr th:only-of-type {\n",
       "        vertical-align: middle;\n",
       "    }\n",
       "\n",
       "    .dataframe tbody tr th {\n",
       "        vertical-align: top;\n",
       "    }\n",
       "\n",
       "    .dataframe thead th {\n",
       "        text-align: right;\n",
       "    }\n",
       "</style>\n",
       "<table border=\"1\" class=\"dataframe\">\n",
       "  <thead>\n",
       "    <tr style=\"text-align: right;\">\n",
       "      <th></th>\n",
       "      <th>S.N</th>\n",
       "      <th>Ac.Number</th>\n",
       "      <th>Amount</th>\n",
       "      <th>Txn Type</th>\n",
       "      <th>Desc1</th>\n",
       "      <th>Desc2</th>\n",
       "      <th>Desc3</th>\n",
       "      <th>Date</th>\n",
       "      <th>Number</th>\n",
       "      <th>Transaction ID</th>\n",
       "      <th>Transaction Id</th>\n",
       "    </tr>\n",
       "  </thead>\n",
       "  <tbody>\n",
       "    <tr>\n",
       "      <th>0</th>\n",
       "      <td>1</td>\n",
       "      <td>915103010100</td>\n",
       "      <td>-86916.28</td>\n",
       "      <td>DR</td>\n",
       "      <td>1</td>\n",
       "      <td>PRABHUMONEY#PMT91752</td>\n",
       "      <td>NPS-IF-3196423</td>\n",
       "      <td>2023-09-05</td>\n",
       "      <td>NPS131312</td>\n",
       "      <td>3196423</td>\n",
       "      <td>3196423</td>\n",
       "    </tr>\n",
       "  </tbody>\n",
       "</table>\n",
       "</div>"
      ],
      "text/plain": [
       "   S.N     Ac.Number    Amount Txn Type  Desc1                 Desc2  \\\n",
       "0    1  915103010100 -86916.28       DR      1  PRABHUMONEY#PMT91752   \n",
       "\n",
       "            Desc3        Date     Number Transaction ID Transaction Id  \n",
       "0  NPS-IF-3196423  2023-09-05  NPS131312        3196423        3196423  "
      ]
     },
     "execution_count": 11,
     "metadata": {},
     "output_type": "execute_result"
    }
   ],
   "source": [
    "bank_statement_df"
   ]
  },
  {
   "cell_type": "code",
   "execution_count": 12,
   "metadata": {},
   "outputs": [],
   "source": [
    "def standard_format_phase_4(row):\n",
    "        \"\"\"\n",
    "        Determine transaction mode and amount from bank statement data.\n",
    "\n",
    "        Parameters:\n",
    "            row (Series): A row of bank statement data.\n",
    "\n",
    "        Returns:\n",
    "            Series: Mode (CR/DR) and amount.\n",
    "        \"\"\"\n",
    "        if row['Txn Type'] == 'DR' :\n",
    "            mode = 'DR'\n",
    "            amount = abs(row['Amount'])\n",
    "        elif row['Txn Type'] == 'CR':\n",
    "            mode = 'CR'\n",
    "            amount = abs(row['Amount'])\n",
    "        else:\n",
    "            mode = None\n",
    "            amount = None\n",
    "        return pd.Series([mode, amount], index=['Mode', 'Amount'])"
   ]
  },
  {
   "cell_type": "code",
   "execution_count": 13,
   "metadata": {},
   "outputs": [],
   "source": [
    "bank_statement_df[['Mode', 'Amount']] = bank_statement_df.apply(standard_format_phase_4, axis=1)\n"
   ]
  },
  {
   "cell_type": "code",
   "execution_count": 14,
   "metadata": {},
   "outputs": [
    {
     "data": {
      "text/html": [
       "<div>\n",
       "<style scoped>\n",
       "    .dataframe tbody tr th:only-of-type {\n",
       "        vertical-align: middle;\n",
       "    }\n",
       "\n",
       "    .dataframe tbody tr th {\n",
       "        vertical-align: top;\n",
       "    }\n",
       "\n",
       "    .dataframe thead th {\n",
       "        text-align: right;\n",
       "    }\n",
       "</style>\n",
       "<table border=\"1\" class=\"dataframe\">\n",
       "  <thead>\n",
       "    <tr style=\"text-align: right;\">\n",
       "      <th></th>\n",
       "      <th>S.N</th>\n",
       "      <th>Ac.Number</th>\n",
       "      <th>Amount</th>\n",
       "      <th>Txn Type</th>\n",
       "      <th>Desc1</th>\n",
       "      <th>Desc2</th>\n",
       "      <th>Desc3</th>\n",
       "      <th>Date</th>\n",
       "      <th>Number</th>\n",
       "      <th>Transaction ID</th>\n",
       "      <th>Transaction Id</th>\n",
       "      <th>Mode</th>\n",
       "    </tr>\n",
       "  </thead>\n",
       "  <tbody>\n",
       "    <tr>\n",
       "      <th>0</th>\n",
       "      <td>1</td>\n",
       "      <td>915103010100</td>\n",
       "      <td>86916.28</td>\n",
       "      <td>DR</td>\n",
       "      <td>1</td>\n",
       "      <td>PRABHUMONEY#PMT91752</td>\n",
       "      <td>NPS-IF-3196423</td>\n",
       "      <td>2023-09-05</td>\n",
       "      <td>NPS131312</td>\n",
       "      <td>3196423</td>\n",
       "      <td>3196423</td>\n",
       "      <td>DR</td>\n",
       "    </tr>\n",
       "  </tbody>\n",
       "</table>\n",
       "</div>"
      ],
      "text/plain": [
       "   S.N     Ac.Number    Amount Txn Type  Desc1                 Desc2  \\\n",
       "0    1  915103010100  86916.28       DR      1  PRABHUMONEY#PMT91752   \n",
       "\n",
       "            Desc3        Date     Number Transaction ID Transaction Id Mode  \n",
       "0  NPS-IF-3196423  2023-09-05  NPS131312        3196423        3196423   DR  "
      ]
     },
     "execution_count": 14,
     "metadata": {},
     "output_type": "execute_result"
    }
   ],
   "source": [
    "bank_statement_df"
   ]
  },
  {
   "cell_type": "code",
   "execution_count": null,
   "metadata": {},
   "outputs": [],
   "source": []
  }
 ],
 "metadata": {
  "kernelspec": {
   "display_name": "Python 3.9.13 ('base')",
   "language": "python",
   "name": "python3"
  },
  "language_info": {
   "codemirror_mode": {
    "name": "ipython",
    "version": 3
   },
   "file_extension": ".py",
   "mimetype": "text/x-python",
   "name": "python",
   "nbconvert_exporter": "python",
   "pygments_lexer": "ipython3",
   "version": "3.9.13"
  },
  "orig_nbformat": 4,
  "vscode": {
   "interpreter": {
    "hash": "ad2bdc8ecc057115af97d19610ffacc2b4e99fae6737bb82f5d7fb13d2f2c186"
   }
  }
 },
 "nbformat": 4,
 "nbformat_minor": 2
}
