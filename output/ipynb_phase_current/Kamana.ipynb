{
 "cells": [
  {
   "cell_type": "code",
   "execution_count": 1,
   "metadata": {},
   "outputs": [],
   "source": [
    "import re\n",
    "import pandas as pd\n"
   ]
  },
  {
   "cell_type": "code",
   "execution_count": 2,
   "metadata": {},
   "outputs": [],
   "source": [
    "bank_statement_df = pd.read_excel(r\"D:\\NPS_phase1\\CURRENT_BANK_STMT\\Bank_Kamana .xlsx\",skiprows=1)"
   ]
  },
  {
   "cell_type": "code",
   "execution_count": 3,
   "metadata": {},
   "outputs": [
    {
     "data": {
      "text/html": [
       "<div>\n",
       "<style scoped>\n",
       "    .dataframe tbody tr th:only-of-type {\n",
       "        vertical-align: middle;\n",
       "    }\n",
       "\n",
       "    .dataframe tbody tr th {\n",
       "        vertical-align: top;\n",
       "    }\n",
       "\n",
       "    .dataframe thead th {\n",
       "        text-align: right;\n",
       "    }\n",
       "</style>\n",
       "<table border=\"1\" class=\"dataframe\">\n",
       "  <thead>\n",
       "    <tr style=\"text-align: right;\">\n",
       "      <th></th>\n",
       "      <th>S.N</th>\n",
       "      <th>Ac.Number</th>\n",
       "      <th>Amount</th>\n",
       "      <th>Txn Type</th>\n",
       "      <th>Desc1</th>\n",
       "      <th>Desc2</th>\n",
       "      <th>Desc3</th>\n",
       "      <th>Date</th>\n",
       "      <th>Number</th>\n",
       "    </tr>\n",
       "  </thead>\n",
       "  <tbody>\n",
       "    <tr>\n",
       "      <th>0</th>\n",
       "      <td>1</td>\n",
       "      <td>9266011200011</td>\n",
       "      <td>-56333.4</td>\n",
       "      <td>DR</td>\n",
       "      <td>IMEREMIT#1212800190</td>\n",
       "      <td>NPS-IF-3133515</td>\n",
       "      <td>034461</td>\n",
       "      <td>2023-08-28T19:33:59</td>\n",
       "      <td>NaN</td>\n",
       "    </tr>\n",
       "    <tr>\n",
       "      <th>1</th>\n",
       "      <td>2</td>\n",
       "      <td>9266011200011</td>\n",
       "      <td>-100.0</td>\n",
       "      <td>DR</td>\n",
       "      <td>1301820000211823-10</td>\n",
       "      <td>OL1000059632</td>\n",
       "      <td>034460</td>\n",
       "      <td>2023-08-28T19:31:59</td>\n",
       "      <td>NaN</td>\n",
       "    </tr>\n",
       "    <tr>\n",
       "      <th>2</th>\n",
       "      <td>3</td>\n",
       "      <td>9266011200011</td>\n",
       "      <td>-418.0</td>\n",
       "      <td>DR</td>\n",
       "      <td>NEPALREMIT#Fund Tra</td>\n",
       "      <td>NPS-IF-3133430</td>\n",
       "      <td>034459</td>\n",
       "      <td>2023-08-28T19:16:38</td>\n",
       "      <td>NaN</td>\n",
       "    </tr>\n",
       "    <tr>\n",
       "      <th>3</th>\n",
       "      <td>4</td>\n",
       "      <td>9266011200011</td>\n",
       "      <td>100.0</td>\n",
       "      <td>CR</td>\n",
       "      <td>9819024447</td>\n",
       "      <td>4842247,NPS</td>\n",
       "      <td>100003986403,mob</td>\n",
       "      <td>2023-08-28T19:16:22</td>\n",
       "      <td>NaN</td>\n",
       "    </tr>\n",
       "    <tr>\n",
       "      <th>4</th>\n",
       "      <td>5</td>\n",
       "      <td>9266011200011</td>\n",
       "      <td>-1040.0</td>\n",
       "      <td>DR</td>\n",
       "      <td>NDPC#NPS-IF-3133420</td>\n",
       "      <td>NPS-IF-3133420</td>\n",
       "      <td>034458</td>\n",
       "      <td>2023-08-28T19:12:45</td>\n",
       "      <td>NaN</td>\n",
       "    </tr>\n",
       "  </tbody>\n",
       "</table>\n",
       "</div>"
      ],
      "text/plain": [
       "   S.N      Ac.Number   Amount Txn Type                Desc1           Desc2  \\\n",
       "0    1  9266011200011 -56333.4       DR  IMEREMIT#1212800190  NPS-IF-3133515   \n",
       "1    2  9266011200011   -100.0       DR  1301820000211823-10    OL1000059632   \n",
       "2    3  9266011200011   -418.0       DR  NEPALREMIT#Fund Tra  NPS-IF-3133430   \n",
       "3    4  9266011200011    100.0       CR           9819024447     4842247,NPS   \n",
       "4    5  9266011200011  -1040.0       DR  NDPC#NPS-IF-3133420  NPS-IF-3133420   \n",
       "\n",
       "              Desc3                 Date  Number  \n",
       "0            034461  2023-08-28T19:33:59     NaN  \n",
       "1            034460  2023-08-28T19:31:59     NaN  \n",
       "2            034459  2023-08-28T19:16:38     NaN  \n",
       "3  100003986403,mob  2023-08-28T19:16:22     NaN  \n",
       "4            034458  2023-08-28T19:12:45     NaN  "
      ]
     },
     "execution_count": 3,
     "metadata": {},
     "output_type": "execute_result"
    }
   ],
   "source": [
    "bank_statement_df.head()"
   ]
  },
  {
   "cell_type": "code",
   "execution_count": 4,
   "metadata": {},
   "outputs": [
    {
     "name": "stdout",
     "output_type": "stream",
     "text": [
      "2023-08-28\n"
     ]
    }
   ],
   "source": [
    "test_date = '2023-08-28T19:33:59'\n",
    "conv_date = pd.to_datetime(test_date, format=\"%Y-%m-%d\").date()\n",
    "print(conv_date)"
   ]
  },
  {
   "cell_type": "code",
   "execution_count": 6,
   "metadata": {},
   "outputs": [
    {
     "data": {
      "text/plain": [
       "0      2023-08-28\n",
       "1      2023-08-28\n",
       "2      2023-08-28\n",
       "3      2023-08-28\n",
       "4      2023-08-28\n",
       "          ...    \n",
       "111    2023-08-28\n",
       "112    2023-08-28\n",
       "113    2023-08-28\n",
       "114    2023-08-28\n",
       "115    2023-08-28\n",
       "Name: Date, Length: 116, dtype: object"
      ]
     },
     "execution_count": 6,
     "metadata": {},
     "output_type": "execute_result"
    }
   ],
   "source": [
    "bank_statement_df['Date'] = pd.to_datetime(bank_statement_df['Date'],format=\"%Y-%m-%dT%H:%M:%S\").dt.date\n",
    "bank_statement_df['Date']\n"
   ]
  },
  {
   "cell_type": "code",
   "execution_count": 14,
   "metadata": {},
   "outputs": [],
   "source": [
    "for index, row in bank_statement_df.iterrows():\n",
    "    if \"10000\" in (row['Desc3']):\n",
    "        id = re.findall(r'10*[0-9]{7}', row['Desc3'])\n",
    "        id =  id[0].replace(\"10000\", \"\")\n",
    "        bank_statement_df.loc[index, 'Transaction Id'] = id\n",
    "    elif \"10000\" in (row['Desc2']):\n",
    "        id = re.findall(r'10*[0-9]{7}', row['Desc2'])\n",
    "        id =  id[0].replace(\"10000\", \"\")\n",
    "        bank_statement_df.loc[index, 'Transaction Id'] = id\n",
    "    elif \"NPS-IF-\" in row['Desc2']:\n",
    "        id = re.findall(r'[0-9]{7}', row['Desc2'])\n",
    "        bank_statement_df.loc[index, 'Transaction Id'] = id[0]\n",
    "    elif \"FTMS-\" in row['Desc2']:\n",
    "        id = re.findall(r'[0-9]{6}', row['Desc2'])\n",
    "        bank_statement_df.loc[index, 'Transaction Id'] = id[0]"
   ]
  },
  {
   "cell_type": "code",
   "execution_count": 15,
   "metadata": {},
   "outputs": [
    {
     "data": {
      "text/plain": [
       "115"
      ]
     },
     "execution_count": 15,
     "metadata": {},
     "output_type": "execute_result"
    }
   ],
   "source": [
    "bank_statement_df['Transaction Id'].count()"
   ]
  },
  {
   "cell_type": "code",
   "execution_count": 16,
   "metadata": {},
   "outputs": [
    {
     "data": {
      "text/plain": [
       "0      3133515\n",
       "1        59632\n",
       "2      3133430\n",
       "3      3986403\n",
       "4      3133420\n",
       "        ...   \n",
       "111    3128040\n",
       "112    3127998\n",
       "113    3127807\n",
       "114    3982639\n",
       "115    3127694\n",
       "Name: Transaction Id, Length: 116, dtype: object"
      ]
     },
     "execution_count": 16,
     "metadata": {},
     "output_type": "execute_result"
    }
   ],
   "source": [
    "bank_statement_df['Transaction Id']"
   ]
  },
  {
   "cell_type": "code",
   "execution_count": 28,
   "metadata": {},
   "outputs": [
    {
     "data": {
      "text/html": [
       "<div>\n",
       "<style scoped>\n",
       "    .dataframe tbody tr th:only-of-type {\n",
       "        vertical-align: middle;\n",
       "    }\n",
       "\n",
       "    .dataframe tbody tr th {\n",
       "        vertical-align: top;\n",
       "    }\n",
       "\n",
       "    .dataframe thead th {\n",
       "        text-align: right;\n",
       "    }\n",
       "</style>\n",
       "<table border=\"1\" class=\"dataframe\">\n",
       "  <thead>\n",
       "    <tr style=\"text-align: right;\">\n",
       "      <th></th>\n",
       "      <th>S.N</th>\n",
       "      <th>Ac.Number</th>\n",
       "      <th>Amount</th>\n",
       "      <th>Txn Type</th>\n",
       "      <th>Desc1</th>\n",
       "      <th>Desc2</th>\n",
       "      <th>Desc3</th>\n",
       "      <th>Date</th>\n",
       "      <th>Number</th>\n",
       "      <th>Transaction id</th>\n",
       "      <th>Transaction Id</th>\n",
       "    </tr>\n",
       "  </thead>\n",
       "  <tbody>\n",
       "    <tr>\n",
       "      <th>0</th>\n",
       "      <td>1</td>\n",
       "      <td>9266011200011</td>\n",
       "      <td>-56333.4</td>\n",
       "      <td>DR</td>\n",
       "      <td>IMEREMIT#1212800190</td>\n",
       "      <td>NPS-IF-3133515</td>\n",
       "      <td>034461</td>\n",
       "      <td>2023-08-28T19:33:59</td>\n",
       "      <td>NaN</td>\n",
       "      <td>3133515</td>\n",
       "      <td>3133515</td>\n",
       "    </tr>\n",
       "    <tr>\n",
       "      <th>1</th>\n",
       "      <td>2</td>\n",
       "      <td>9266011200011</td>\n",
       "      <td>-100.0</td>\n",
       "      <td>DR</td>\n",
       "      <td>1301820000211823-10</td>\n",
       "      <td>OL1000059632</td>\n",
       "      <td>034460</td>\n",
       "      <td>2023-08-28T19:31:59</td>\n",
       "      <td>NaN</td>\n",
       "      <td>59632</td>\n",
       "      <td>59632</td>\n",
       "    </tr>\n",
       "    <tr>\n",
       "      <th>2</th>\n",
       "      <td>3</td>\n",
       "      <td>9266011200011</td>\n",
       "      <td>-418.0</td>\n",
       "      <td>DR</td>\n",
       "      <td>NEPALREMIT#Fund Tra</td>\n",
       "      <td>NPS-IF-3133430</td>\n",
       "      <td>034459</td>\n",
       "      <td>2023-08-28T19:16:38</td>\n",
       "      <td>NaN</td>\n",
       "      <td>3133430</td>\n",
       "      <td>3133430</td>\n",
       "    </tr>\n",
       "    <tr>\n",
       "      <th>3</th>\n",
       "      <td>4</td>\n",
       "      <td>9266011200011</td>\n",
       "      <td>100.0</td>\n",
       "      <td>CR</td>\n",
       "      <td>9819024447</td>\n",
       "      <td>4842247,NPS</td>\n",
       "      <td>100003986403,mob</td>\n",
       "      <td>2023-08-28T19:16:22</td>\n",
       "      <td>NaN</td>\n",
       "      <td>3986403</td>\n",
       "      <td>3986403</td>\n",
       "    </tr>\n",
       "    <tr>\n",
       "      <th>4</th>\n",
       "      <td>5</td>\n",
       "      <td>9266011200011</td>\n",
       "      <td>-1040.0</td>\n",
       "      <td>DR</td>\n",
       "      <td>NDPC#NPS-IF-3133420</td>\n",
       "      <td>NPS-IF-3133420</td>\n",
       "      <td>034458</td>\n",
       "      <td>2023-08-28T19:12:45</td>\n",
       "      <td>NaN</td>\n",
       "      <td>3133420</td>\n",
       "      <td>3133420</td>\n",
       "    </tr>\n",
       "  </tbody>\n",
       "</table>\n",
       "</div>"
      ],
      "text/plain": [
       "   S.N      Ac.Number   Amount Txn Type                Desc1           Desc2  \\\n",
       "0    1  9266011200011 -56333.4       DR  IMEREMIT#1212800190  NPS-IF-3133515   \n",
       "1    2  9266011200011   -100.0       DR  1301820000211823-10    OL1000059632   \n",
       "2    3  9266011200011   -418.0       DR  NEPALREMIT#Fund Tra  NPS-IF-3133430   \n",
       "3    4  9266011200011    100.0       CR           9819024447     4842247,NPS   \n",
       "4    5  9266011200011  -1040.0       DR  NDPC#NPS-IF-3133420  NPS-IF-3133420   \n",
       "\n",
       "              Desc3                 Date  Number Transaction id Transaction Id  \n",
       "0            034461  2023-08-28T19:33:59     NaN        3133515        3133515  \n",
       "1            034460  2023-08-28T19:31:59     NaN          59632          59632  \n",
       "2            034459  2023-08-28T19:16:38     NaN        3133430        3133430  \n",
       "3  100003986403,mob  2023-08-28T19:16:22     NaN        3986403        3986403  \n",
       "4            034458  2023-08-28T19:12:45     NaN        3133420        3133420  "
      ]
     },
     "execution_count": 28,
     "metadata": {},
     "output_type": "execute_result"
    }
   ],
   "source": [
    "bank_statement_df.head()"
   ]
  },
  {
   "cell_type": "code",
   "execution_count": 12,
   "metadata": {},
   "outputs": [
    {
     "data": {
      "text/plain": [
       "Index(['S.N', 'Ac.Number', 'Amount', 'Txn Type', 'Desc1', 'Desc2', 'Desc3',\n",
       "       'Date', 'Number', 'Transaction id'],\n",
       "      dtype='object')"
      ]
     },
     "execution_count": 12,
     "metadata": {},
     "output_type": "execute_result"
    }
   ],
   "source": [
    "bank_statement_df.columns"
   ]
  },
  {
   "cell_type": "code",
   "execution_count": 8,
   "metadata": {},
   "outputs": [],
   "source": [
    "def extract_transaction_id(row, col1, col2):\n",
    "            for item in (row[col1], row[col2]):\n",
    "                if \"NPS-IF-\" in item:\n",
    "                    id = re.findall(r'[0-9]{7}', item)\n",
    "                    return id[0]\n",
    "                elif \"10000\" in item:\n",
    "                    id = re.findall(r'10*[0-9]{7}', item)\n",
    "                    return id[0].replace(\"10000\", \"\")\n",
    "                elif \"FTMS-\" in item:\n",
    "                    id = re.findall(r'[0-9]{6}', item)\n",
    "                    return id[0]\n",
    "                elif \"eod\" in item:\n",
    "                    return item\n",
    "            return None\n",
    "\n",
    "        "
   ]
  },
  {
   "cell_type": "code",
   "execution_count": 9,
   "metadata": {},
   "outputs": [],
   "source": [
    "bank_statement_df['Transaction id'] = bank_statement_df.apply(lambda row: extract_transaction_id(row, 'Desc2', 'Desc3'), axis=1)"
   ]
  },
  {
   "cell_type": "code",
   "execution_count": 11,
   "metadata": {},
   "outputs": [
    {
     "data": {
      "text/plain": [
       "115"
      ]
     },
     "execution_count": 11,
     "metadata": {},
     "output_type": "execute_result"
    }
   ],
   "source": [
    "bank_statement_df['Transaction id'].count()"
   ]
  },
  {
   "cell_type": "code",
   "execution_count": null,
   "metadata": {},
   "outputs": [],
   "source": []
  }
 ],
 "metadata": {
  "kernelspec": {
   "display_name": "Python 3.9.13 ('base')",
   "language": "python",
   "name": "python3"
  },
  "language_info": {
   "codemirror_mode": {
    "name": "ipython",
    "version": 3
   },
   "file_extension": ".py",
   "mimetype": "text/x-python",
   "name": "python",
   "nbconvert_exporter": "python",
   "pygments_lexer": "ipython3",
   "version": "3.9.13"
  },
  "orig_nbformat": 4,
  "vscode": {
   "interpreter": {
    "hash": "ad2bdc8ecc057115af97d19610ffacc2b4e99fae6737bb82f5d7fb13d2f2c186"
   }
  }
 },
 "nbformat": 4,
 "nbformat_minor": 2
}
