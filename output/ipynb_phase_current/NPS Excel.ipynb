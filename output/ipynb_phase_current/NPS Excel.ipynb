{
 "cells": [
  {
   "cell_type": "code",
   "execution_count": 8,
   "metadata": {},
   "outputs": [],
   "source": [
    "import pandas as pd\n",
    "import re"
   ]
  },
  {
   "cell_type": "markdown",
   "metadata": {},
   "source": [
    "Reading excel into PD\n"
   ]
  },
  {
   "cell_type": "code",
   "execution_count": 13,
   "metadata": {},
   "outputs": [],
   "source": [
    "bank_statement_df = pd.read_excel('D:/NPS/Kamana Bank.xlsx', header=1)\n",
    "soa_statement_df = pd.read_excel('D:/NPS/Kamana SOA.xlsx', header=1)"
   ]
  },
  {
   "cell_type": "markdown",
   "metadata": {},
   "source": [
    "Adding empty column in Bank statement"
   ]
  },
  {
   "cell_type": "code",
   "execution_count": 14,
   "metadata": {},
   "outputs": [],
   "source": [
    "\n",
    "bank_statement_df['transaction_id'] =  ''"
   ]
  },
  {
   "cell_type": "markdown",
   "metadata": {},
   "source": [
    "iterate through every rows in bank statement to extract transaction id"
   ]
  },
  {
   "cell_type": "code",
   "execution_count": 26,
   "metadata": {},
   "outputs": [
    {
     "data": {
      "text/html": [
       "<div>\n",
       "<style scoped>\n",
       "    .dataframe tbody tr th:only-of-type {\n",
       "        vertical-align: middle;\n",
       "    }\n",
       "\n",
       "    .dataframe tbody tr th {\n",
       "        vertical-align: top;\n",
       "    }\n",
       "\n",
       "    .dataframe thead th {\n",
       "        text-align: right;\n",
       "    }\n",
       "</style>\n",
       "<table border=\"1\" class=\"dataframe\">\n",
       "  <thead>\n",
       "    <tr style=\"text-align: right;\">\n",
       "      <th></th>\n",
       "      <th>S.N</th>\n",
       "      <th>Ac.Number</th>\n",
       "      <th>Amount</th>\n",
       "      <th>Desc1</th>\n",
       "      <th>Desc2</th>\n",
       "      <th>Desc3</th>\n",
       "      <th>Date</th>\n",
       "      <th>Number</th>\n",
       "      <th>transaction_id</th>\n",
       "    </tr>\n",
       "  </thead>\n",
       "  <tbody>\n",
       "    <tr>\n",
       "      <th>0</th>\n",
       "      <td>1</td>\n",
       "      <td>9266011200011</td>\n",
       "      <td>-20000.00</td>\n",
       "      <td>NEPALREMIT#Fund Tra</td>\n",
       "      <td>NPS-IF-2870783</td>\n",
       "      <td>031024</td>\n",
       "      <td>2023-07-22T22:35:43</td>\n",
       "      <td>NaN</td>\n",
       "      <td>2870783</td>\n",
       "    </tr>\n",
       "    <tr>\n",
       "      <th>1</th>\n",
       "      <td>2</td>\n",
       "      <td>9266011200011</td>\n",
       "      <td>-36265.00</td>\n",
       "      <td>GMEREMIT#GME-040600</td>\n",
       "      <td>NPS-IF-2870755</td>\n",
       "      <td>031023</td>\n",
       "      <td>2023-07-22T22:21:22</td>\n",
       "      <td>NaN</td>\n",
       "      <td>2870755</td>\n",
       "    </tr>\n",
       "    <tr>\n",
       "      <th>2</th>\n",
       "      <td>3</td>\n",
       "      <td>9266011200011</td>\n",
       "      <td>1000.00</td>\n",
       "      <td>9746408153</td>\n",
       "      <td>4455367,NPS</td>\n",
       "      <td>100003830858,mob</td>\n",
       "      <td>2023-07-22T21:33:55</td>\n",
       "      <td>NaN</td>\n",
       "      <td>3830858</td>\n",
       "    </tr>\n",
       "    <tr>\n",
       "      <th>3</th>\n",
       "      <td>4</td>\n",
       "      <td>9266011200011</td>\n",
       "      <td>1000.00</td>\n",
       "      <td>9849069590</td>\n",
       "      <td>4455200,NPS</td>\n",
       "      <td>100003830760,mob</td>\n",
       "      <td>2023-07-22T21:04:40</td>\n",
       "      <td>NaN</td>\n",
       "      <td>3830760</td>\n",
       "    </tr>\n",
       "    <tr>\n",
       "      <th>4</th>\n",
       "      <td>5</td>\n",
       "      <td>9266011200011</td>\n",
       "      <td>-17450.25</td>\n",
       "      <td>PRABHUMONEY#PMT9121</td>\n",
       "      <td>NPS-IF-2870423</td>\n",
       "      <td>031022</td>\n",
       "      <td>2023-07-22T20:10:01</td>\n",
       "      <td>NaN</td>\n",
       "      <td>2870423</td>\n",
       "    </tr>\n",
       "    <tr>\n",
       "      <th>...</th>\n",
       "      <td>...</td>\n",
       "      <td>...</td>\n",
       "      <td>...</td>\n",
       "      <td>...</td>\n",
       "      <td>...</td>\n",
       "      <td>...</td>\n",
       "      <td>...</td>\n",
       "      <td>...</td>\n",
       "      <td>...</td>\n",
       "    </tr>\n",
       "    <tr>\n",
       "      <th>198</th>\n",
       "      <td>199</td>\n",
       "      <td>9266011200011</td>\n",
       "      <td>-50000.00</td>\n",
       "      <td>THAILI#TID#10000237</td>\n",
       "      <td>NPS-IF-2855514</td>\n",
       "      <td>030876</td>\n",
       "      <td>2023-07-20T07:29:54</td>\n",
       "      <td>NaN</td>\n",
       "      <td>2855514</td>\n",
       "    </tr>\n",
       "    <tr>\n",
       "      <th>199</th>\n",
       "      <td>200</td>\n",
       "      <td>9266011200011</td>\n",
       "      <td>1000.00</td>\n",
       "      <td>9805908433</td>\n",
       "      <td>4426850,NPS</td>\n",
       "      <td>100003818355,mob</td>\n",
       "      <td>2023-07-20T07:23:56</td>\n",
       "      <td>NaN</td>\n",
       "      <td>3818355</td>\n",
       "    </tr>\n",
       "    <tr>\n",
       "      <th>200</th>\n",
       "      <td>201</td>\n",
       "      <td>9266011200011</td>\n",
       "      <td>-50000.00</td>\n",
       "      <td>NEPALREMIT#Fund Tra</td>\n",
       "      <td>NPS-IF-2855304</td>\n",
       "      <td>030875</td>\n",
       "      <td>2023-07-20T06:25:42</td>\n",
       "      <td>NaN</td>\n",
       "      <td>2855304</td>\n",
       "    </tr>\n",
       "    <tr>\n",
       "      <th>201</th>\n",
       "      <td>202</td>\n",
       "      <td>9266011200011</td>\n",
       "      <td>-260673.12</td>\n",
       "      <td>NEPALREMIT#Fund Tra</td>\n",
       "      <td>NPS-IF-2855244</td>\n",
       "      <td>030874</td>\n",
       "      <td>2023-07-20T05:29:45</td>\n",
       "      <td>NaN</td>\n",
       "      <td>2855244</td>\n",
       "    </tr>\n",
       "    <tr>\n",
       "      <th>202</th>\n",
       "      <td>203</td>\n",
       "      <td>9266011200011</td>\n",
       "      <td>-30533.00</td>\n",
       "      <td>GMEREMIT#GME-040600</td>\n",
       "      <td>NPS-IF-2855110</td>\n",
       "      <td>030873</td>\n",
       "      <td>2023-07-20T02:25:18</td>\n",
       "      <td>NaN</td>\n",
       "      <td>2855110</td>\n",
       "    </tr>\n",
       "  </tbody>\n",
       "</table>\n",
       "<p>203 rows × 9 columns</p>\n",
       "</div>"
      ],
      "text/plain": [
       "     S.N      Ac.Number     Amount                Desc1           Desc2   \n",
       "0      1  9266011200011  -20000.00  NEPALREMIT#Fund Tra  NPS-IF-2870783  \\\n",
       "1      2  9266011200011  -36265.00  GMEREMIT#GME-040600  NPS-IF-2870755   \n",
       "2      3  9266011200011    1000.00           9746408153     4455367,NPS   \n",
       "3      4  9266011200011    1000.00           9849069590     4455200,NPS   \n",
       "4      5  9266011200011  -17450.25  PRABHUMONEY#PMT9121  NPS-IF-2870423   \n",
       "..   ...            ...        ...                  ...             ...   \n",
       "198  199  9266011200011  -50000.00  THAILI#TID#10000237  NPS-IF-2855514   \n",
       "199  200  9266011200011    1000.00           9805908433     4426850,NPS   \n",
       "200  201  9266011200011  -50000.00  NEPALREMIT#Fund Tra  NPS-IF-2855304   \n",
       "201  202  9266011200011 -260673.12  NEPALREMIT#Fund Tra  NPS-IF-2855244   \n",
       "202  203  9266011200011  -30533.00  GMEREMIT#GME-040600  NPS-IF-2855110   \n",
       "\n",
       "                Desc3                 Date  Number transaction_id  \n",
       "0              031024  2023-07-22T22:35:43     NaN        2870783  \n",
       "1              031023  2023-07-22T22:21:22     NaN        2870755  \n",
       "2    100003830858,mob  2023-07-22T21:33:55     NaN        3830858  \n",
       "3    100003830760,mob  2023-07-22T21:04:40     NaN        3830760  \n",
       "4              031022  2023-07-22T20:10:01     NaN        2870423  \n",
       "..                ...                  ...     ...            ...  \n",
       "198            030876  2023-07-20T07:29:54     NaN        2855514  \n",
       "199  100003818355,mob  2023-07-20T07:23:56     NaN        3818355  \n",
       "200            030875  2023-07-20T06:25:42     NaN        2855304  \n",
       "201            030874  2023-07-20T05:29:45     NaN        2855244  \n",
       "202            030873  2023-07-20T02:25:18     NaN        2855110  \n",
       "\n",
       "[203 rows x 9 columns]"
      ]
     },
     "execution_count": 26,
     "metadata": {},
     "output_type": "execute_result"
    }
   ],
   "source": [
    "for index, row in bank_statement_df.iterrows():\n",
    "    # print(bank_statement_df.iloc[index]['transaction_id'])\n",
    "    for roww in (row['Desc2'] , row['Desc3']):\n",
    "        \n",
    "        if \"NPS-IF-\" in roww:\n",
    "            id = re.findall(r'[0-9]{7}',roww)\n",
    "            bank_statement_df.loc[index, 'transaction_id'] = id[0]\n",
    "            break\n",
    "        \n",
    "        if \"10000\" in roww:\n",
    "            id = re.findall(r'10*[0-9]{7}',roww)\n",
    "            bank_statement_df.loc[index, 'transaction_id'] = id[0].replace(\"10000\",\"\")\n",
    "            break\n",
    "            \n",
    "        if \"FTMS-\" in roww:\n",
    "            id = re.findall(r'[0-9]{6}',roww)\n",
    "            bank_statement_df.loc[index, 'transaction_id'] = id[0]\n",
    "            break\n",
    "            \n",
    "            \n",
    "        if \"eod\" in roww:\n",
    "            id = roww\n",
    "            bank_statement_df.loc[index, 'transaction_id'] = id\n",
    "            break\n",
    "            \n",
    "            \n",
    "bank_statement_df"
   ]
  },
  {
   "cell_type": "markdown",
   "metadata": {},
   "source": [
    "Replacing Transaction id with Eod in SOA"
   ]
  },
  {
   "cell_type": "code",
   "execution_count": 25,
   "metadata": {},
   "outputs": [
    {
     "name": "stdout",
     "output_type": "stream",
     "text": [
      "eod07-19\n",
      "eod7-20\n"
     ]
    },
    {
     "data": {
      "text/plain": [
       "S.N                                                                74\n",
       "Transaction Id                                                3824270\n",
       "Opening Balance                                           37787277.62\n",
       "Mode                                                               DR\n",
       "Transaction Type                                              Gateway\n",
       "Amount                                                          100.0\n",
       "Closing Blance                                            37787177.62\n",
       "Remarks             Balance Transferred from KAMANA(NEPAL PAYMENT ...\n",
       "Date                                            7/21/2023 11:29:00 AM\n",
       "Name: 72, dtype: object"
      ]
     },
     "execution_count": 25,
     "metadata": {},
     "output_type": "execute_result"
    }
   ],
   "source": [
    "for index, row in soa_statement_df.iterrows():\n",
    "    if \"eod\" in row['Remarks']:\n",
    "        id = row['Remarks']\n",
    "        soa_statement_df.loc[index, 'Transaction Id'] = id\n",
    "        print(id)\n",
    "        \n",
    "soa_statement_df.loc[72]\n",
    "\n",
    "\n",
    "    "
   ]
  },
  {
   "cell_type": "markdown",
   "metadata": {},
   "source": [
    "Matching Bank ID with SOA ID\n"
   ]
  },
  {
   "cell_type": "code",
   "execution_count": 24,
   "metadata": {},
   "outputs": [
    {
     "name": "stdout",
     "output_type": "stream",
     "text": [
      "[S.N                               203\n",
      "Ac.Number               9266011200011\n",
      "Amount                       -30533.0\n",
      "Desc1             GMEREMIT#GME-040600\n",
      "Desc2                  NPS-IF-2855110\n",
      "Desc3                          030873\n",
      "Date              2023-07-20T02:25:18\n",
      "Number                            NaN\n",
      "transaction_id                2855110\n",
      "Name: 202, dtype: object]\n",
      "6799487.17\n",
      "9165286.48\n"
     ]
    }
   ],
   "source": [
    "banknotmatch = []\n",
    "bankmatch = []\n",
    "\n",
    "\n",
    "for index1 , bank_statement in bank_statement_df.iterrows():\n",
    "    if str(bank_statement['transaction_id']) in str(soa_statement_df['Transaction Id'].values):\n",
    "        \n",
    "        bankmatch.append(bank_statement)\n",
    "    else:    \n",
    "        banknotmatch.append(bank_statement)\n",
    "   \n",
    "print(banknotmatch)             \n",
    "\n",
    "\n",
    "        \n",
    "    "
   ]
  },
  {
   "cell_type": "markdown",
   "metadata": {},
   "source": [
    "Matching SOA ID with Bank ID\n"
   ]
  },
  {
   "cell_type": "code",
   "execution_count": 20,
   "metadata": {},
   "outputs": [
    {
     "name": "stdout",
     "output_type": "stream",
     "text": [
      "[]\n",
      "9165286.479999999\n",
      "6799487.170000001\n"
     ]
    }
   ],
   "source": [
    "soanotmatch = []\n",
    "soacr = 0\n",
    "soadr = 0\n",
    "for indexsoa , soa_statement in soa_statement_df.iterrows():\n",
    "    match = 0\n",
    "    if str(soa_statement['Transaction Id']) in (bank_statement_df['transaction_id'].values):\n",
    "        matched = 1\n",
    "        if soa_statement['Mode'] == 'CR':\n",
    "            soacr += soa_statement['Amount']\n",
    "        else:\n",
    "            soadr += soa_statement['Amount']\n",
    "        continue\n",
    "    soanotmatch.append(soa_statement.loc[indexsoa])\n",
    "\n",
    "print(soanotmatch)         \n",
    "print(soacr)\n",
    "print(soadr)"
   ]
  },
  {
   "cell_type": "code",
   "execution_count": null,
   "metadata": {},
   "outputs": [],
   "source": []
  },
  {
   "cell_type": "code",
   "execution_count": null,
   "metadata": {},
   "outputs": [],
   "source": []
  },
  {
   "cell_type": "code",
   "execution_count": 34,
   "metadata": {},
   "outputs": [
    {
     "name": "stdout",
     "output_type": "stream",
     "text": [
      "this is orange\n"
     ]
    }
   ],
   "source": [
    "abc = \"orange\"\n",
    "\n",
    "match abc:\n",
    "    case \"apple\": print(\"this is apple\") \n",
    "    case \"orange\": print(\"this is orange\")\n",
    "    case _: print(\"no value\")"
   ]
  },
  {
   "cell_type": "code",
   "execution_count": null,
   "metadata": {},
   "outputs": [],
   "source": []
  }
 ],
 "metadata": {
  "kernelspec": {
   "display_name": "Python 3.9.13 64-bit ('62521b0_b1f3c24_91bb43ea')",
   "language": "python",
   "name": "python3"
  },
  "language_info": {
   "codemirror_mode": {
    "name": "ipython",
    "version": 3
   },
   "file_extension": ".py",
   "mimetype": "text/x-python",
   "name": "python",
   "nbconvert_exporter": "python",
   "pygments_lexer": "ipython3",
   "version": "3.9.13"
  },
  "orig_nbformat": 4,
  "vscode": {
   "interpreter": {
    "hash": "6e78c6b4b6039d1094d4f83befa88e328ece39eca6fcc16debd39ad27da3d545"
   }
  }
 },
 "nbformat": 4,
 "nbformat_minor": 2
}
